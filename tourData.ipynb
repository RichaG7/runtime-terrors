{
 "cells": [
  {
   "cell_type": "code",
   "execution_count": 61,
   "metadata": {},
   "outputs": [],
   "source": [
    "import requests \n",
    "import json\n",
    "import pandas as pd"
   ]
  },
  {
   "cell_type": "code",
   "execution_count": 60,
   "metadata": {},
   "outputs": [
    {
     "name": "stdout",
     "output_type": "stream",
     "text": [
      "{'New_York_City': ['Statue of Liberty tour with pedestal access and Ellis Island', 'New York Explorer Pass and Guidebook', 'New York CityPASS: Must-See Attractions', '9-11 Memorial and Museum tickets', 'One World Observatory standard ticket', 'Museum of Modern Art (MoMA) skip-the-line tickets', 'The New York Sightseeing Pass: 100+ attractions and tours', 'Big Apple helicopter tour', 'Tickets to the Lion King on Broadway', 'Super New York tour plus Statue of Liberty ferry ticket, special attraction admission and VIP add-on'], 'San_Francisco': ['Go San Francisco Card + Downloadable Guidebook', 'Muir Woods, Sausalito and Sonoma Wine Country tour', 'San Francisco CityPASS', 'California sunset cruise', 'Alcatraz tickets with San Francisco city bus tour', 'Alcatraz tickets with two-day hop-on hop-off San Francisco bus pass', 'Big Bus San Francisco hop-on hop-off tour', 'Muir Woods and Sausalito tour with Alcatraz tickets', 'San Francisco 2 day hop-on hop-off pass', 'Golden Gate Bridge GoCar tour'], 'Boston': ['Go Boston Card + Downloadable Guidebook', 'Boston CityPASS', 'Boston Explorer Pass and guidebook', \"Pilgrim's Path and Plimouth Plantation tour\", 'Harvard Square food tour', 'Old Town Trolley tours of Boston', 'Boston Movie Mile walking tour', 'Davis Square food tour', 'Wrentham Village Premium Outlets', 'Total experience Boston day tour'], 'Denver': ['Denver mountain parks tour', 'Mountain parks and Denver city tour combo', 'Denver highlights tour'], 'New_Orleans': ['Swamp tour and Destrehan Plantation tour', 'Louisiana plantation tour: Oak Alley and Laura', 'New Orleans original cocktail walking tour', 'New Orleans Pass: free admission to sights and attractions', 'St. Louis Cemetery #1 Traditions Tour', 'Plantation brunch and swamp combo tour', 'Hurricane Katrina bus tour', 'New Orleans cocktail history tour', 'Whitney Plantation tour', 'Jazz and brunch cruise on the Mississippi'], 'Philadelphia': ['Street food walking tour in Philadelphia', 'Markets, mosaics and magic - walking tour in Philadelphia', 'One Liberty Observation Deck: Philly From the Top tickets', 'Philadelphia Explorer Pass with downloadable guidebook', 'History in HD guided walking tour in Philadelphia', 'Philly On Tap: Pub Adventure in Philadelphia', 'Italian market immersion in Philadelphia', 'Italian Market Immersion: Philadelphia Food Tour', 'Philadelphia Sightseeing FLEX Pass', 'Philly On Tap - guided beer walking tour in Philadelphia']}\n"
     ]
    }
   ],
   "source": [
    "accountName = '1UYFGLZI'\n",
    "apiToken = 'cnmrnujh5rfu9f2pp33q7z93iveaqvv1'\n",
    "\n",
    "cities = ['New_York_City', 'San_Francisco', 'Boston','Denver','New_Orleans','Philadelphia']\n",
    "\n",
    "cityDic = {}\n",
    "\n",
    "for city in cities:\n",
    "    \n",
    "    tour_url = f'https://www.triposo.com/api/20200405/tour.json?location_ids={city}&count=10'\\\n",
    "    '&fields=id,name,score,price,price_is_per_person,vendor,intro,tag_labels'\\\n",
    "    f'&order_by=-score&account={accountName}&token={apiToken}'\n",
    "    \n",
    "    content = requests.get(tour_url).text\n",
    "\n",
    "    content_json = json.loads(content)\n",
    "    tourData = content_json[\"results\"]\n",
    "\n",
    "    top10_list = []\n",
    "    \n",
    "    for each in tourData:\n",
    "        tours= each[\"name\"]\n",
    "        top10_list.append(tours)\n",
    "    \n",
    "    cityDic[city] = top10_list\n",
    "      \n",
    "print(cityDic)"
   ]
  },
  {
   "cell_type": "code",
   "execution_count": 79,
   "metadata": {},
   "outputs": [],
   "source": [
    "city_df = pd.DataFrame.from_dict(cityDic,orient='index').transpose()"
   ]
  },
  {
   "cell_type": "code",
   "execution_count": 77,
   "metadata": {},
   "outputs": [],
   "source": [
    "from sqlalchemy import create_engine"
   ]
  },
  {
   "cell_type": "code",
   "execution_count": 78,
   "metadata": {},
   "outputs": [],
   "source": [
    "database_path = \"city_db\"\n",
    "engine = create_engine(f\"sqlite:///{database_path}\")\n",
    "conn = engine.connect()"
   ]
  },
  {
   "cell_type": "code",
   "execution_count": 87,
   "metadata": {},
   "outputs": [],
   "source": [
    "city_df.to_sql('tour_data', con=engine, if_exists='replace', index = False,)"
   ]
  },
  {
   "cell_type": "code",
   "execution_count": 88,
   "metadata": {},
   "outputs": [
    {
     "data": {
      "text/plain": [
       "'{\"New_York_City\":{\"0\":\"Statue of Liberty tour with pedestal access and Ellis Island\",\"1\":\"New York Explorer Pass and Guidebook\",\"2\":\"New York CityPASS: Must-See Attractions\",\"3\":\"9-11 Memorial and Museum tickets\",\"4\":\"One World Observatory standard ticket\",\"5\":\"Museum of Modern Art (MoMA) skip-the-line tickets\",\"6\":\"The New York Sightseeing Pass: 100+ attractions and tours\",\"7\":\"Big Apple helicopter tour\",\"8\":\"Tickets to the Lion King on Broadway\",\"9\":\"Super New York tour plus Statue of Liberty ferry ticket, special attraction admission and VIP add-on\"},\"San_Francisco\":{\"0\":\"Go San Francisco Card + Downloadable Guidebook\",\"1\":\"Muir Woods, Sausalito and Sonoma Wine Country tour\",\"2\":\"San Francisco CityPASS\",\"3\":\"California sunset cruise\",\"4\":\"Alcatraz tickets with San Francisco city bus tour\",\"5\":\"Alcatraz tickets with two-day hop-on hop-off San Francisco bus pass\",\"6\":\"Big Bus San Francisco hop-on hop-off tour\",\"7\":\"Muir Woods and Sausalito tour with Alcatraz tickets\",\"8\":\"San Francisco 2 day hop-on hop-off pass\",\"9\":\"Golden Gate Bridge GoCar tour\"},\"Boston\":{\"0\":\"Go Boston Card + Downloadable Guidebook\",\"1\":\"Boston CityPASS\",\"2\":\"Boston Explorer Pass and guidebook\",\"3\":\"Pilgrim\\'s Path and Plimouth Plantation tour\",\"4\":\"Harvard Square food tour\",\"5\":\"Old Town Trolley tours of Boston\",\"6\":\"Boston Movie Mile walking tour\",\"7\":\"Davis Square food tour\",\"8\":\"Wrentham Village Premium Outlets\",\"9\":\"Total experience Boston day tour\"},\"Denver\":{\"0\":\"Denver mountain parks tour\",\"1\":\"Mountain parks and Denver city tour combo\",\"2\":\"Denver highlights tour\",\"3\":null,\"4\":null,\"5\":null,\"6\":null,\"7\":null,\"8\":null,\"9\":null},\"New_Orleans\":{\"0\":\"Swamp tour and Destrehan Plantation tour\",\"1\":\"Louisiana plantation tour: Oak Alley and Laura\",\"2\":\"New Orleans original cocktail walking tour\",\"3\":\"New Orleans Pass: free admission to sights and attractions\",\"4\":\"St. Louis Cemetery #1 Traditions Tour\",\"5\":\"Plantation brunch and swamp combo tour\",\"6\":\"Hurricane Katrina bus tour\",\"7\":\"New Orleans cocktail history tour\",\"8\":\"Whitney Plantation tour\",\"9\":\"Jazz and brunch cruise on the Mississippi\"},\"Philadelphia\":{\"0\":\"Street food walking tour in Philadelphia\",\"1\":\"Markets, mosaics and magic - walking tour in Philadelphia\",\"2\":\"One Liberty Observation Deck: Philly From the Top tickets\",\"3\":\"Philadelphia Explorer Pass with downloadable guidebook\",\"4\":\"History in HD guided walking tour in Philadelphia\",\"5\":\"Philly On Tap: Pub Adventure in Philadelphia\",\"6\":\"Italian market immersion in Philadelphia\",\"7\":\"Italian Market Immersion: Philadelphia Food Tour\",\"8\":\"Philadelphia Sightseeing FLEX Pass\",\"9\":\"Philly On Tap - guided beer walking tour in Philadelphia\"}}'"
      ]
     },
     "execution_count": 88,
     "metadata": {},
     "output_type": "execute_result"
    }
   ],
   "source": [
    "df_tour = pd.read_sql(\"SELECT * FROM tour_data\",engine).to_json()\n",
    "df_season = \n",
    "df_alchol = \n",
    "df_tour"
   ]
  },
  {
   "cell_type": "code",
   "execution_count": null,
   "metadata": {},
   "outputs": [],
   "source": []
  },
  {
   "cell_type": "code",
   "execution_count": null,
   "metadata": {},
   "outputs": [],
   "source": []
  }
 ],
 "metadata": {
  "kernelspec": {
   "display_name": "Python 3.6.10 64-bit ('PythonData_new': conda)",
   "language": "python",
   "name": "python361064bitpythondatanewcondaaaf1a85c25ec4786b381ac9b70fd7af2"
  },
  "language_info": {
   "codemirror_mode": {
    "name": "ipython",
    "version": 3
   },
   "file_extension": ".py",
   "mimetype": "text/x-python",
   "name": "python",
   "nbconvert_exporter": "python",
   "pygments_lexer": "ipython3",
   "version": "3.6.10"
  }
 },
 "nbformat": 4,
 "nbformat_minor": 2
}
